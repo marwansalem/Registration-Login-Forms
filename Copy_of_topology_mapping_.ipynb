{
  "nbformat": 4,
  "nbformat_minor": 0,
  "metadata": {
    "colab": {
      "name": "Copy of topology mapping .ipynb",
      "provenance": [],
      "collapsed_sections": [],
      "machine_shape": "hm",
      "include_colab_link": true
    },
    "kernelspec": {
      "name": "python3",
      "display_name": "Python 3"
    }
  },
  "cells": [
    {
      "cell_type": "markdown",
      "metadata": {
        "id": "view-in-github",
        "colab_type": "text"
      },
      "source": [
        "<a href=\"https://colab.research.google.com/github/marwansalem/Registration-Login-Forms/blob/master/Copy_of_topology_mapping_.ipynb\" target=\"_parent\"><img src=\"https://colab.research.google.com/assets/colab-badge.svg\" alt=\"Open In Colab\"/></a>"
      ]
    },
    {
      "cell_type": "code",
      "metadata": {
        "id": "xZgo5q5CHJNJ",
        "colab_type": "code",
        "colab": {}
      },
      "source": [
        "! wget --no-check-certificate 'https://docs.google.com/uc?export=download&id=1CLVhkMfwJxeUit4qhkUsQWMu8rYHaAMr' -O dataset.zip\n",
        "! unzip dataset.zip"
      ],
      "execution_count": 0,
      "outputs": []
    },
    {
      "cell_type": "code",
      "metadata": {
        "id": "X1aJAqbyHVVa",
        "colab_type": "code",
        "colab": {}
      },
      "source": [
        "! mkdir tens fifty hundred\n",
        "! cp Dataset/*_10_* tens\n",
        "! cp Dataset/*_50_* fifty\n",
        "! cp Dataset/*_100_* hundred"
      ],
      "execution_count": 0,
      "outputs": []
    },
    {
      "cell_type": "code",
      "metadata": {
        "id": "pmAftSEZIbcb",
        "colab_type": "code",
        "outputId": "64d787c1-ec3b-4095-f2cf-37de018ecd8f",
        "colab": {
          "base_uri": "https://localhost:8080/",
          "height": 50
        }
      },
      "source": [
        "! ls tens/"
      ],
      "execution_count": 0,
      "outputs": [
        {
          "output_type": "stream",
          "text": [
            "t_10_0.txt  t_10_2.txt\tt_10_4.txt  t_10_6.txt\tt_10_8.txt\n",
            "t_10_1.txt  t_10_3.txt\tt_10_5.txt  t_10_7.txt\tt_10_9.txt\n"
          ],
          "name": "stdout"
        }
      ]
    },
    {
      "cell_type": "code",
      "metadata": {
        "id": "Or6GluTlHc9c",
        "colab_type": "code",
        "colab": {}
      },
      "source": [
        "import numpy as np\n",
        "import os\n",
        "from pathlib import Path\n",
        "import math\n",
        "import matplotlib.pyplot as plt\n",
        "from sklearn.cluster import KMeans\n",
        "from sklearn.cluster import SpectralClustering\n",
        "import networkx as nx\n",
        "import matplotlib.pyplot as plt"
      ],
      "execution_count": 0,
      "outputs": []
    },
    {
      "cell_type": "code",
      "metadata": {
        "id": "QgdA3wJuOYVQ",
        "colab_type": "code",
        "colab": {}
      },
      "source": [
        "def check_symmetric(a, tol=1e-8):\n",
        "    return np.all(np.abs(a-a.T) < tol)"
      ],
      "execution_count": 0,
      "outputs": []
    },
    {
      "cell_type": "code",
      "metadata": {
        "id": "ukFglRct0oZ5",
        "colab_type": "code",
        "colab": {}
      },
      "source": [
        "def normalize_rows(Mat):\n",
        "    return Mat / np.linalg.norm(Mat, ord=2, axis=1, keepdims=True)"
      ],
      "execution_count": 0,
      "outputs": []
    },
    {
      "cell_type": "code",
      "metadata": {
        "id": "FA4MdR_RKbs3",
        "colab_type": "code",
        "colab": {}
      },
      "source": [
        "def get_similarity_matrix(folder, index, num_of_nodes):\n",
        "    pathlist = Path(folder).glob('*.txt')\n",
        "    files = sorted([str(path) for path in pathlist])\n",
        "    # print(files)\n",
        "    A = np.zeros(shape=(num_of_nodes, num_of_nodes))\n",
        "    noise = 1e-5\n",
        "    A += noise \n",
        "    f = open(files[index])\n",
        "    lines = f.readlines()\n",
        "    lines = [l.strip() for l in lines]\n",
        "    for l in lines:\n",
        "        assert(len(l.split()) == 3)\n",
        "        u, v, w = [int(num) for num in l.split()]\n",
        "        u -= 1\n",
        "        v -= 1\n",
        "        A[u][v] += w\n",
        "        A[v][u] += w\n",
        "    \n",
        "    return A"
      ],
      "execution_count": 0,
      "outputs": []
    },
    {
      "cell_type": "code",
      "metadata": {
        "id": "CNM8zt26mpjt",
        "colab_type": "code",
        "colab": {}
      },
      "source": [
        "def get_ground_truth():\n",
        "    lines = []\n",
        "    with open('Dataset//ground_truth.txt', 'r') as f:\n",
        "        lines = f.readlines()\n",
        "\n",
        "    partitions = [ [int(val) for val in line[:-1].split(' ')]  for line in lines]\n",
        "\n",
        "    return (partitions[:10], partitions[10:])\n",
        "\n",
        "labels10, labels50 = get_ground_truth()"
      ],
      "execution_count": 0,
      "outputs": []
    },
    {
      "cell_type": "code",
      "metadata": {
        "id": "Lov7uzqERca9",
        "colab_type": "code",
        "colab": {}
      },
      "source": [
        "def get_degree_matrix(A):\n",
        "    n = len(A)\n",
        "    Delta = np.zeros(shape=(n, n))\n",
        "    for i in range(n):\n",
        "        Delta[i][i] = np.sum(A[i])\n",
        "    return Delta"
      ],
      "execution_count": 0,
      "outputs": []
    },
    {
      "cell_type": "code",
      "metadata": {
        "id": "SvFZvLJvhGTP",
        "colab_type": "code",
        "colab": {}
      },
      "source": [
        "def get_B(SimMat, DegMat):\n",
        "    L = DegMat - SimMat\n",
        "    Deg_inv = np.linalg.pinv(DegMat)\n",
        "    return Deg_inv.dot(L)"
      ],
      "execution_count": 0,
      "outputs": []
    },
    {
      "cell_type": "code",
      "metadata": {
        "id": "A7Y6hxaeFbh3",
        "colab_type": "code",
        "colab": {}
      },
      "source": [
        "def build_contingency_table(labels, true_labels):\n",
        "    n_clusters = np.max(labels) + 1\n",
        "    n_partitions = np.max(true_labels) + 1\n",
        "    dims = (n_clusters , n_partitions)\n",
        "    cont_tab = np.zeros((n_clusters, n_partitions))\n",
        "    for i in range(len(labels)):\n",
        "        ci = labels[i]\n",
        "        pi = true_labels[i]\n",
        "        cont_tab[ci][pi] += 1 #this point is in common between the cluster and the partition\n",
        "    return cont_tab"
      ],
      "execution_count": 0,
      "outputs": []
    },
    {
      "cell_type": "code",
      "metadata": {
        "id": "QD-4f9bAyzdP",
        "colab_type": "code",
        "colab": {}
      },
      "source": [
        "def spectral_clustering(SimMat, DegMat, k):\n",
        "    B = get_B(SimMat, DegMat)\n",
        "    eigvals, eigvecs = np.linalg.eigh(B)\n",
        "    U = eigvecs.T[:k].T\n",
        "    Y = normalize_rows(U)\n",
        "    kmeans = KMeans(n_clusters=k, random_state=0).fit(Y)\n",
        "    return kmeans.labels_"
      ],
      "execution_count": 0,
      "outputs": []
    },
    {
      "cell_type": "code",
      "metadata": {
        "id": "c1P0m43vmuYR",
        "colab_type": "code",
        "colab": {}
      },
      "source": [
        "def cond_entropy(contingency_tab, labels, ground_truth):\n",
        "    r = np.max(labels) + 1 # number of clusters\n",
        "    k = np.max(ground_truth) + 1 #number of partitions\n",
        "    cluster_sizes = [0] * r # sizes of clusters Ci (ni)\n",
        "    partition_sizes = [0] * k  # sizes of partitions Tj(mj)  \n",
        "    num_of_points = len(labels)\n",
        "\n",
        "    for ci in labels:\n",
        "        cluster_sizes[ci] += 1\n",
        "    for tj in ground_truth:\n",
        "        partition_sizes[tj] += 1\n",
        "\n",
        "    h_t_c = 0\n",
        "    #H(T/c) = H(C,T) - H(C)\n",
        "    # compute first H(C,T)\n",
        "    for i in range(r):\n",
        "        for j in range(k):\n",
        "            #pij = nij /n , nij : cont_tab[i][j]\n",
        "            p_i_j = contingency_tab[i][j] / num_of_points\n",
        "            if p_i_j != 0: # to avoid log2(0)\n",
        "                h_t_c -= p_i_j * np.log2(p_i_j)\n",
        "                print(h_t_c)\n",
        "    # compute H(C)\n",
        "    for i in range(r):\n",
        "        pci = cluster_sizes[i]/num_of_points\n",
        "        if pci !=0:# to avoid division by zero\n",
        "            h_t_c += pci*np.log2(pci)\n",
        "            print(h_t_c)\n",
        "    return h_t_c\n"
      ],
      "execution_count": 0,
      "outputs": []
    },
    {
      "cell_type": "code",
      "metadata": {
        "id": "QBmo6Eb8FjeB",
        "colab_type": "code",
        "colab": {}
      },
      "source": [
        "def compute_traffic(mat, labels, noise=0):\n",
        "    n, n = np.shape(Mat)\n",
        "    internal_traffic = np.zeros(np.max(labels) +1)\n",
        "    external_traffic = np.zeros(np.max(labels)+1)\n",
        "    for i in range(n): # iterate on elements below main diagonal\n",
        "        for j in range(i):\n",
        "            w = mat[i][j]\n",
        "\n",
        "            if w <= noise: #ignore noise\n",
        "                continue\n",
        "\n",
        "            if labels[i] == labels[j]: # if they have same label then they are in the same cluster\n",
        "                cluster_num = labels[i]\n",
        "                #add weight of edge to the internal traffic of the cluster\n",
        "                internal_traffic[cluster_num] += w\n",
        "            else:\n",
        "                #not in same cluster, so add the weight of the edge to external traffic \n",
        "                external_traffic[labels[i]] += w\n",
        "                external_traffic[labels[j]] += w\n",
        "    \n",
        "    return internal_traffic, external_traffic"
      ],
      "execution_count": 0,
      "outputs": []
    },
    {
      "cell_type": "code",
      "metadata": {
        "id": "VhQ26XxgnRv0",
        "colab_type": "code",
        "colab": {}
      },
      "source": [
        "def get_distance_matrix(mat, noise=0):\n",
        "    dims = np.shape(mat)\n",
        "    dist_mat = np.ones(dims)\n",
        "    n = len(mat)\n",
        "    for i in range(n):\n",
        "        for j in range(i):\n",
        "            w = mat[i][j]\n",
        "            if w>= noise:\n",
        "                dist_mat[i][j] = dist_mat[j][i] = np.exp(-0.01* w)\n",
        "    \n",
        "    return dist_mat"
      ],
      "execution_count": 0,
      "outputs": []
    },
    {
      "cell_type": "code",
      "metadata": {
        "id": "fQCxm80GnQV8",
        "colab_type": "code",
        "colab": {}
      },
      "source": [
        "def normalized_cut_measure(weight_mat,labels , noise=0):\n",
        "    #1. convert weight matrix to distance matrix e^-0.01w\n",
        "    dist = get_distance_matrix(weight_mat,noise= noise)\n",
        "    #2 get internal distances within cluster, and among clusters\n",
        "    internal_dist, external_dist = compute_traffic(dist, labels, noise=noise)\n",
        "\n",
        "    NC = 0\n",
        "    for i in range(len(internal_dist)):\n",
        "        NC +=  external_dist[i]/(external_dist[i] + internal_dist[i])\n",
        "    \n",
        "    return NC"
      ],
      "execution_count": 0,
      "outputs": []
    },
    {
      "cell_type": "code",
      "metadata": {
        "id": "JcyM-ImE1Voi",
        "colab_type": "code",
        "colab": {}
      },
      "source": [
        "def f_measure_onerow(cont_mat, row : int):\n",
        "    arr = cont_mat[row]\n",
        "    max_val = np.amax(arr)\n",
        "    index = np.where(arr == max_val)[0][0]\n",
        "    return (2 * cont_mat[row][index]) / (np.sum(cont_mat[row]) + np.sum(cont_mat[ : , index]))"
      ],
      "execution_count": 0,
      "outputs": []
    },
    {
      "cell_type": "code",
      "metadata": {
        "id": "R0uyKZ2np0i6",
        "colab_type": "code",
        "colab": {}
      },
      "source": [
        "def f_measure(cont_table):\n",
        "    r = cont_table.shape[0]\n",
        "    return (1.0 / r) * (np.sum([f_measure_onerow(cont_table, i) for i in range(r)]))"
      ],
      "execution_count": 0,
      "outputs": []
    },
    {
      "cell_type": "code",
      "metadata": {
        "id": "PfT6QmyXGvkD",
        "colab_type": "code",
        "colab": {}
      },
      "source": [
        "# for visualizing graph\n",
        "def draw_graph(A, clusters=None, title='' ,noise=0):\n",
        "    G =nx.Graph()\n",
        "    n, n = np.shape(A)\n",
        "    for i in range(n):\n",
        "        for j in range(i): #works as long as entrys a[i][i] are empty!\n",
        "            #print(str(i) +' ,' + str(j) )\n",
        "            if A[i][j] > noise:\n",
        "                G.add_edge(i+1,j+1, weight = A[i][j])\n",
        "            else:# add node if it doesnt exist\n",
        "                G.add_node(i+1)\n",
        "                \n",
        "    pos = nx.spring_layout(G)\n",
        "    #pos = nx.\n",
        "    plt.figure()\n",
        "    plt.axis('off')\n",
        "    if clusters : \n",
        "        colors =[clusters[i-1] for i in G.nodes  ]\n",
        "        nx.draw(G,pos=pos, node_color=colors, with_labels = True)\n",
        "    else:\n",
        "        nx.draw(G,pos=pos, with_labels= True)\n",
        "    labels = nx.get_edge_attributes(G,'weight')# get weights\n",
        "    nx.draw_networkx_edge_labels(G,pos, edge_labels=labels)# draw weights on edges\n",
        "    plt.title(title)\n",
        "    plt.show()"
      ],
      "execution_count": 0,
      "outputs": []
    },
    {
      "cell_type": "code",
      "metadata": {
        "id": "yO7RBDbhQNmu",
        "colab_type": "code",
        "colab": {}
      },
      "source": [
        "folder_names = ['tens', 'fifty', 'hundred']\n",
        "sizes = [10, 50, 100]\n",
        "kvals_10 = [2, 4, 6, 8, 10]\n",
        "kvals_50_100 = [2,10,12,15,17,20,25]"
      ],
      "execution_count": 0,
      "outputs": []
    },
    {
      "cell_type": "code",
      "metadata": {
        "id": "SjEL4At1PEZd",
        "colab_type": "code",
        "colab": {}
      },
      "source": [
        "# print(DegreeMatrix)\n",
        "# print(B)\n",
        "# print(SimilarityMatrix)"
      ],
      "execution_count": 0,
      "outputs": []
    },
    {
      "cell_type": "code",
      "metadata": {
        "id": "3uaf8sfV2TdF",
        "colab_type": "code",
        "outputId": "bbae76eb-ad7c-4e0f-cb09-a1ee8cbafcd8",
        "colab": {
          "base_uri": "https://localhost:8080/",
          "height": 1000
        }
      },
      "source": [
        "now = 0 # 0 -> 10, 1 ->50 2 -> 100\n",
        "folder_name = folder_names[now]\n",
        "num_of_nodes = sizes[now]\n",
        "noise = 1e-5\n",
        "n_clusters = kvals_10[3]  # choose a number, ba3'ayar fiha wana ba-test\n",
        "\n",
        "def run():\n",
        "    for i in range(10):\n",
        "        for n_clusters in kvals_10:\n",
        "            file_idx = i\n",
        "            SimilarityMatrix = get_similarity_matrix(folder=folder_name, index=file_idx, num_of_nodes=num_of_nodes)\n",
        "            DegreeMatrix = get_degree_matrix(SimilarityMatrix)\n",
        "            k_means_labels = spectral_clustering(SimilarityMatrix, DegreeMatrix, n_clusters)\n",
        "            title = 'file:{},K={}'.format(file_idx, n_clusters)\n",
        "            # draw_graph(SimilarityMatrix, clusters= list(k_means_labels), title=title, noise = noise)\n",
        "            true_labels = None\n",
        "            n = len(DegreeMatrix)\n",
        "            if n == 10:\n",
        "                true_labels = labels10\n",
        "            elif n == 50:\n",
        "                true_labels = labels50\n",
        "            elif n == 100:\n",
        "                print('true label = None')\n",
        "            \n",
        "            cont_table = build_contingency_table(k_means_labels, true_labels)\n",
        "            print(f'f-measure for cluster {n_clusters}: ', f_measure(cont_table))\n",
        "            # clustering = SpectralClustering(n_clusters=n_clusters,\n",
        "            #     assign_labels=\"discretize\",\n",
        "            #     random_state=0).fit(SimilarityMatrix)\n",
        "            # print('sc : ', clustering.labels_, '\\n\\n')\n",
        "        print('\\n')\n",
        "\n",
        "run()"
      ],
      "execution_count": 0,
      "outputs": [
        {
          "output_type": "stream",
          "text": [
            "f-measure for cluster 2:  0.4380952380952381\n",
            "f-measure for cluster 4:  0.3074786324786325\n",
            "f-measure for cluster 6:  0.22895299145299147\n",
            "f-measure for cluster 8:  0.18842095404595405\n",
            "f-measure for cluster 10:  0.16076839826839828\n",
            "\n",
            "\n",
            "f-measure for cluster 2:  0.4258064516129032\n",
            "f-measure for cluster 4:  0.30627705627705626\n",
            "f-measure for cluster 6:  0.23362332112332113\n",
            "f-measure for cluster 8:  0.18990904928404928\n",
            "f-measure for cluster 10:  0.16076839826839828\n",
            "\n",
            "\n",
            "f-measure for cluster 2:  0.4307692307692308\n",
            "f-measure for cluster 4:  0.30627705627705626\n",
            "f-measure for cluster 6:  0.23511904761904762\n",
            "f-measure for cluster 8:  0.18973214285714285\n",
            "f-measure for cluster 10:  0.16076839826839828\n",
            "\n",
            "\n",
            "f-measure for cluster 2:  0.39166666666666666\n",
            "f-measure for cluster 4:  0.30629084967320264\n",
            "f-measure for cluster 6:  0.22998575498575502\n",
            "f-measure for cluster 8:  0.18483946608946608\n",
            "f-measure for cluster 10:  0.16076839826839828\n",
            "\n",
            "\n",
            "f-measure for cluster 2:  0.4076923076923077\n",
            "f-measure for cluster 4:  0.3096638655462185\n",
            "f-measure for cluster 6:  0.233966033966034\n",
            "f-measure for cluster 8:  0.18737928737928738\n",
            "f-measure for cluster 10:  0.16076839826839828\n",
            "\n",
            "\n",
            "f-measure for cluster 2:  0.43047619047619046\n",
            "f-measure for cluster 4:  0.3041666666666667\n",
            "f-measure for cluster 6:  0.23362332112332113\n",
            "f-measure for cluster 8:  0.18842095404595405\n",
            "f-measure for cluster 10:  0.16076839826839828\n",
            "\n",
            "\n",
            "f-measure for cluster 2:  0.42083333333333334\n",
            "f-measure for cluster 4:  0.3047008547008547\n",
            "f-measure for cluster 6:  0.23223443223443221\n",
            "f-measure for cluster 8:  0.18522727272727274\n",
            "f-measure for cluster 10:  0.16076839826839828\n",
            "\n",
            "\n",
            "f-measure for cluster 2:  0.4258064516129032\n",
            "f-measure for cluster 4:  0.3040472599296129\n",
            "f-measure for cluster 6:  0.22998575498575496\n",
            "f-measure for cluster 8:  0.19076236263736263\n",
            "f-measure for cluster 10:  0.16076839826839828\n",
            "\n",
            "\n",
            "f-measure for cluster 2:  0.39285714285714285\n",
            "f-measure for cluster 4:  0.3059314954051796\n",
            "f-measure for cluster 6:  0.2299182299182299\n",
            "f-measure for cluster 8:  0.18707160894660896\n",
            "f-measure for cluster 10:  0.16076839826839828\n",
            "\n",
            "\n",
            "f-measure for cluster 2:  0.4356060606060606\n",
            "f-measure for cluster 4:  0.3018207282913165\n",
            "f-measure for cluster 6:  0.23137075342957694\n",
            "f-measure for cluster 8:  0.18606760886172652\n",
            "f-measure for cluster 10:  0.16076839826839828\n",
            "\n",
            "\n"
          ],
          "name": "stdout"
        }
      ]
    }
  ]
}